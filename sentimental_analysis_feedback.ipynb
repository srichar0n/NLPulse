{
 "cells": [
  {
   "cell_type": "code",
   "execution_count": 1,
   "id": "2db1b15b",
   "metadata": {},
   "outputs": [],
   "source": [
    "#jaiiii sri ram"
   ]
  },
  {
   "cell_type": "code",
   "execution_count": 2,
   "id": "6525e6a6",
   "metadata": {},
   "outputs": [
    {
     "data": {
      "text/plain": [
       "'\\n1.input raw data \\n2.tokenizing \\n3.textcleaning \\n   - remove punctuations\\n   - remove stopwords\\n   - stemming/lemmatization\\n4.vectorization\\n5.modelling\\n6.accuracy and final model\\n'"
      ]
     },
     "execution_count": 2,
     "metadata": {},
     "output_type": "execute_result"
    }
   ],
   "source": [
    "#steps\n",
    "'''\n",
    "1.input raw data \n",
    "2.tokenizing \n",
    "3.textcleaning \n",
    "   - remove punctuations\n",
    "   - remove stopwords\n",
    "   - stemming/lemmatization\n",
    "4.vectorization\n",
    "5.modelling\n",
    "6.accuracy and final model\n",
    "'''"
   ]
  },
  {
   "cell_type": "markdown",
   "id": "c6a1dc6b",
   "metadata": {},
   "source": [
    "# BUSINESS PROBLEM UNDERSTANDING "
   ]
  },
  {
   "cell_type": "code",
   "execution_count": 3,
   "id": "e6724d75",
   "metadata": {},
   "outputs": [],
   "source": [
    "#Performing sentimental analysis on the input data and saying whether the feedback of the students is positive or not \n",
    "#application - applying on the feedback data of the students on the lecturer and analying their data instead of manually reading each and every feedback"
   ]
  },
  {
   "cell_type": "code",
   "execution_count": 4,
   "id": "8ab9b5ea",
   "metadata": {},
   "outputs": [],
   "source": [
    "import pandas as pd\n",
    "import seaborn as sns\n",
    "import matplotlib as plt"
   ]
  },
  {
   "cell_type": "code",
   "execution_count": 5,
   "id": "34a664e7",
   "metadata": {},
   "outputs": [],
   "source": [
    "df = pd.read_csv(\"C:\\\\Users\\\\Sricharan Reddy\\\\Downloads\\\\feedback dataset.csv\")"
   ]
  },
  {
   "cell_type": "code",
   "execution_count": 6,
   "id": "72a04f10",
   "metadata": {},
   "outputs": [
    {
     "data": {
      "text/html": [
       "<div>\n",
       "<style scoped>\n",
       "    .dataframe tbody tr th:only-of-type {\n",
       "        vertical-align: middle;\n",
       "    }\n",
       "\n",
       "    .dataframe tbody tr th {\n",
       "        vertical-align: top;\n",
       "    }\n",
       "\n",
       "    .dataframe thead th {\n",
       "        text-align: right;\n",
       "    }\n",
       "</style>\n",
       "<table border=\"1\" class=\"dataframe\">\n",
       "  <thead>\n",
       "    <tr style=\"text-align: right;\">\n",
       "      <th></th>\n",
       "      <th>text</th>\n",
       "      <th>sentiment</th>\n",
       "    </tr>\n",
       "  </thead>\n",
       "  <tbody>\n",
       "    <tr>\n",
       "      <th>0</th>\n",
       "      <td>Display is excellent and camera is as good as ...</td>\n",
       "      <td>1</td>\n",
       "    </tr>\n",
       "    <tr>\n",
       "      <th>1</th>\n",
       "      <td>Battery life is also great!</td>\n",
       "      <td>1</td>\n",
       "    </tr>\n",
       "    <tr>\n",
       "      <th>2</th>\n",
       "      <td>Protects the phone on all sides.</td>\n",
       "      <td>1</td>\n",
       "    </tr>\n",
       "    <tr>\n",
       "      <th>3</th>\n",
       "      <td>Clear Skype Calls, Long Battery Life, Long Range.</td>\n",
       "      <td>1</td>\n",
       "    </tr>\n",
       "    <tr>\n",
       "      <th>4</th>\n",
       "      <td>Great Hands Free Device.</td>\n",
       "      <td>1</td>\n",
       "    </tr>\n",
       "  </tbody>\n",
       "</table>\n",
       "</div>"
      ],
      "text/plain": [
       "                                                text  sentiment\n",
       "0  Display is excellent and camera is as good as ...          1\n",
       "1                        Battery life is also great!          1\n",
       "2                   Protects the phone on all sides.          1\n",
       "3  Clear Skype Calls, Long Battery Life, Long Range.          1\n",
       "4                           Great Hands Free Device.          1"
      ]
     },
     "execution_count": 6,
     "metadata": {},
     "output_type": "execute_result"
    }
   ],
   "source": [
    "df.head()"
   ]
  },
  {
   "cell_type": "code",
   "execution_count": 7,
   "id": "a9e1b78a",
   "metadata": {},
   "outputs": [
    {
     "name": "stdout",
     "output_type": "stream",
     "text": [
      "<class 'pandas.core.frame.DataFrame'>\n",
      "RangeIndex: 5200 entries, 0 to 5199\n",
      "Data columns (total 2 columns):\n",
      " #   Column     Non-Null Count  Dtype \n",
      "---  ------     --------------  ----- \n",
      " 0   text       5200 non-null   object\n",
      " 1   sentiment  5200 non-null   int64 \n",
      "dtypes: int64(1), object(1)\n",
      "memory usage: 81.4+ KB\n"
     ]
    }
   ],
   "source": [
    "df.info()"
   ]
  },
  {
   "cell_type": "code",
   "execution_count": 8,
   "id": "d5d85238",
   "metadata": {},
   "outputs": [],
   "source": [
    "#here the first column is a text column in which the feedback is written and sentiment is the output column of dataset"
   ]
  },
  {
   "cell_type": "code",
   "execution_count": 9,
   "id": "f31ce081",
   "metadata": {},
   "outputs": [],
   "source": [
    "import nltk\n",
    "import re"
   ]
  },
  {
   "cell_type": "code",
   "execution_count": 10,
   "id": "4b1e0896",
   "metadata": {},
   "outputs": [],
   "source": [
    "from nltk.corpus import stopwords\n",
    "from nltk.stem import PorterStemmer"
   ]
  },
  {
   "cell_type": "code",
   "execution_count": 11,
   "id": "9fc9bf8e",
   "metadata": {},
   "outputs": [],
   "source": [
    "ps = PorterStemmer()"
   ]
  },
  {
   "cell_type": "code",
   "execution_count": 12,
   "id": "695d59a9",
   "metadata": {},
   "outputs": [],
   "source": [
    "corpus = []\n",
    "for i in range(len(df)):\n",
    "    rp = re.sub(\"[^a-zA-Z]\",\" \",df['text'][i])\n",
    "    rp = rp.lower()\n",
    "    rp = rp.split()\n",
    "    rp = [ps.stem(word) for word in rp if not  word in set(stopwords.words('english'))]\n",
    "    rp = \" \".join(rp)\n",
    "    corpus.append(rp)"
   ]
  },
  {
   "cell_type": "code",
   "execution_count": 13,
   "id": "051f411a",
   "metadata": {},
   "outputs": [
    {
     "data": {
      "text/plain": [
       "['display excel camera good year',\n",
       " 'batteri life also great',\n",
       " 'protect phone side',\n",
       " 'clear skype call long batteri life long rang',\n",
       " 'great hand free devic']"
      ]
     },
     "execution_count": 13,
     "metadata": {},
     "output_type": "execute_result"
    }
   ],
   "source": [
    "corpus[:5]"
   ]
  },
  {
   "cell_type": "code",
   "execution_count": 14,
   "id": "a3cc8867",
   "metadata": {},
   "outputs": [],
   "source": [
    "#working fine here we have done removing punctuations , stopwords , stemming lessgooo"
   ]
  },
  {
   "cell_type": "code",
   "execution_count": 15,
   "id": "a0d00c8a",
   "metadata": {},
   "outputs": [],
   "source": [
    "from sklearn.feature_extraction.text import CountVectorizer"
   ]
  },
  {
   "cell_type": "code",
   "execution_count": 16,
   "id": "36b611de",
   "metadata": {},
   "outputs": [],
   "source": [
    "cv = CountVectorizer()"
   ]
  },
  {
   "cell_type": "code",
   "execution_count": 17,
   "id": "95567561",
   "metadata": {},
   "outputs": [],
   "source": [
    "x = cv.fit_transform(corpus).toarray()"
   ]
  },
  {
   "cell_type": "code",
   "execution_count": 18,
   "id": "516990f5",
   "metadata": {},
   "outputs": [],
   "source": [
    "y = df['sentiment']"
   ]
  },
  {
   "cell_type": "code",
   "execution_count": 19,
   "id": "85fc3e6c",
   "metadata": {},
   "outputs": [],
   "source": [
    "from sklearn.model_selection import train_test_split"
   ]
  },
  {
   "cell_type": "code",
   "execution_count": 20,
   "id": "d9e41fda",
   "metadata": {},
   "outputs": [],
   "source": [
    "x_train , x_test , y_train , y_test = train_test_split(x,y,test_size=0.2,random_state = 9)"
   ]
  },
  {
   "cell_type": "code",
   "execution_count": null,
   "id": "62f056f2",
   "metadata": {},
   "outputs": [],
   "source": []
  },
  {
   "cell_type": "markdown",
   "id": "1d583b11",
   "metadata": {},
   "source": [
    "# Modelling "
   ]
  },
  {
   "cell_type": "markdown",
   "id": "0b820787",
   "metadata": {},
   "source": [
    "## 1.Naive Bayes classifier"
   ]
  },
  {
   "cell_type": "code",
   "execution_count": 21,
   "id": "14d5d37e",
   "metadata": {},
   "outputs": [],
   "source": [
    "from sklearn.naive_bayes import MultinomialNB"
   ]
  },
  {
   "cell_type": "code",
   "execution_count": 22,
   "id": "37fd7e69",
   "metadata": {},
   "outputs": [],
   "source": [
    "nbmodel = MultinomialNB()"
   ]
  },
  {
   "cell_type": "code",
   "execution_count": 23,
   "id": "200e368f",
   "metadata": {},
   "outputs": [
    {
     "data": {
      "text/plain": [
       "MultinomialNB()"
      ]
     },
     "execution_count": 23,
     "metadata": {},
     "output_type": "execute_result"
    }
   ],
   "source": [
    "nbmodel.fit(x_train,y_train)"
   ]
  },
  {
   "cell_type": "code",
   "execution_count": 24,
   "id": "ddd917ba",
   "metadata": {},
   "outputs": [],
   "source": [
    "y_pred_train  = nbmodel.predict(x_train)"
   ]
  },
  {
   "cell_type": "code",
   "execution_count": 25,
   "id": "e503e9ac",
   "metadata": {},
   "outputs": [],
   "source": [
    "y_pred_test = nbmodel.predict(x_test)"
   ]
  },
  {
   "cell_type": "code",
   "execution_count": 26,
   "id": "823ac03c",
   "metadata": {},
   "outputs": [],
   "source": [
    "from sklearn.metrics import accuracy_score"
   ]
  },
  {
   "cell_type": "code",
   "execution_count": 27,
   "id": "6c247b70",
   "metadata": {},
   "outputs": [
    {
     "data": {
      "text/plain": [
       "0.9108173076923077"
      ]
     },
     "execution_count": 27,
     "metadata": {},
     "output_type": "execute_result"
    }
   ],
   "source": [
    "accuracy_score(y_train,y_pred_train)"
   ]
  },
  {
   "cell_type": "code",
   "execution_count": 28,
   "id": "963e0276",
   "metadata": {},
   "outputs": [
    {
     "data": {
      "text/plain": [
       "0.8384615384615385"
      ]
     },
     "execution_count": 28,
     "metadata": {},
     "output_type": "execute_result"
    }
   ],
   "source": [
    "accuracy_score(y_test,y_pred_test)"
   ]
  },
  {
   "cell_type": "code",
   "execution_count": 29,
   "id": "bb679c76",
   "metadata": {},
   "outputs": [
    {
     "data": {
      "text/plain": [
       "0.8384615384615385"
      ]
     },
     "execution_count": 29,
     "metadata": {},
     "output_type": "execute_result"
    }
   ],
   "source": [
    "nbmodel.score(x_test,y_test)"
   ]
  },
  {
   "cell_type": "markdown",
   "id": "b42da936",
   "metadata": {},
   "source": [
    "## 2.XGBOOST ALGORITHM "
   ]
  },
  {
   "cell_type": "code",
   "execution_count": 30,
   "id": "cb74a8ef",
   "metadata": {},
   "outputs": [],
   "source": [
    "from xgboost import XGBClassifier"
   ]
  },
  {
   "cell_type": "code",
   "execution_count": 31,
   "id": "a0113ba8",
   "metadata": {},
   "outputs": [
    {
     "data": {
      "text/plain": [
       "XGBClassifier(base_score=None, booster=None, callbacks=None,\n",
       "              colsample_bylevel=None, colsample_bynode=None,\n",
       "              colsample_bytree=None, early_stopping_rounds=None,\n",
       "              enable_categorical=False, eval_metric=None, feature_types=None,\n",
       "              gamma=None, gpu_id=None, grow_policy=None, importance_type=None,\n",
       "              interaction_constraints=None, learning_rate=None, max_bin=None,\n",
       "              max_cat_threshold=None, max_cat_to_onehot=None,\n",
       "              max_delta_step=None, max_depth=None, max_leaves=None,\n",
       "              min_child_weight=None, missing=nan, monotone_constraints=None,\n",
       "              n_estimators=100, n_jobs=None, num_parallel_tree=None,\n",
       "              predictor=None, random_state=None, ...)"
      ]
     },
     "execution_count": 31,
     "metadata": {},
     "output_type": "execute_result"
    }
   ],
   "source": [
    "model = XGBClassifier()\n",
    "model.fit(x_train,y_train)"
   ]
  },
  {
   "cell_type": "code",
   "execution_count": 32,
   "id": "3a551654",
   "metadata": {},
   "outputs": [],
   "source": [
    "y_pred_train  = model.predict(x_train)\n",
    "y_pred_test = model.predict(x_test)"
   ]
  },
  {
   "cell_type": "code",
   "execution_count": 33,
   "id": "1c09dacd",
   "metadata": {},
   "outputs": [],
   "source": [
    "from sklearn.metrics import accuracy_score"
   ]
  },
  {
   "cell_type": "code",
   "execution_count": 34,
   "id": "2a0e803c",
   "metadata": {},
   "outputs": [
    {
     "data": {
      "text/plain": [
       "0.8540865384615385"
      ]
     },
     "execution_count": 34,
     "metadata": {},
     "output_type": "execute_result"
    }
   ],
   "source": [
    "accuracy_score(y_train,y_pred_train)"
   ]
  },
  {
   "cell_type": "code",
   "execution_count": 35,
   "id": "273946dd",
   "metadata": {},
   "outputs": [
    {
     "data": {
      "text/plain": [
       "0.8163461538461538"
      ]
     },
     "execution_count": 35,
     "metadata": {},
     "output_type": "execute_result"
    }
   ],
   "source": [
    "accuracy_score(y_test,y_pred_test)"
   ]
  },
  {
   "cell_type": "code",
   "execution_count": 36,
   "id": "d99da62c",
   "metadata": {},
   "outputs": [
    {
     "data": {
      "text/plain": [
       "0.8163461538461538"
      ]
     },
     "execution_count": 36,
     "metadata": {},
     "output_type": "execute_result"
    }
   ],
   "source": [
    "model.score(x_test,y_test)"
   ]
  },
  {
   "cell_type": "markdown",
   "id": "065d74f8",
   "metadata": {},
   "source": [
    "# 3.Logistic regression"
   ]
  },
  {
   "cell_type": "code",
   "execution_count": 37,
   "id": "1f3aeec6",
   "metadata": {},
   "outputs": [],
   "source": [
    "from sklearn.linear_model import LogisticRegression"
   ]
  },
  {
   "cell_type": "code",
   "execution_count": 38,
   "id": "a2768125",
   "metadata": {},
   "outputs": [
    {
     "data": {
      "text/plain": [
       "LogisticRegression()"
      ]
     },
     "execution_count": 38,
     "metadata": {},
     "output_type": "execute_result"
    }
   ],
   "source": [
    "model = LogisticRegression()\n",
    "model.fit(x_train,y_train)"
   ]
  },
  {
   "cell_type": "code",
   "execution_count": 39,
   "id": "780c7dee",
   "metadata": {},
   "outputs": [],
   "source": [
    "y_pred_train  = model.predict(x_train)\n",
    "y_pred_test = model.predict(x_test)"
   ]
  },
  {
   "cell_type": "code",
   "execution_count": 40,
   "id": "6467d618",
   "metadata": {},
   "outputs": [
    {
     "name": "stdout",
     "output_type": "stream",
     "text": [
      "0.9262019230769231\n",
      "0.8451923076923077\n"
     ]
    }
   ],
   "source": [
    "print(accuracy_score(y_train,y_pred_train))\n",
    "print(accuracy_score(y_test,y_pred_test))"
   ]
  },
  {
   "cell_type": "code",
   "execution_count": 41,
   "id": "007df018",
   "metadata": {},
   "outputs": [
    {
     "data": {
      "text/plain": [
       "0.8451923076923077"
      ]
     },
     "execution_count": 41,
     "metadata": {},
     "output_type": "execute_result"
    }
   ],
   "source": [
    "model.score(x_test,y_test)"
   ]
  },
  {
   "cell_type": "markdown",
   "id": "dd997e7f",
   "metadata": {},
   "source": [
    "# To make a new prediction : - "
   ]
  },
  {
   "cell_type": "code",
   "execution_count": 42,
   "id": "111df4c8",
   "metadata": {},
   "outputs": [],
   "source": [
    "#for predicting for a new input you have to do all the steps of the preprocessing before model u can't just give it directly"
   ]
  },
  {
   "cell_type": "code",
   "execution_count": 59,
   "id": "44d6a7e3",
   "metadata": {},
   "outputs": [],
   "source": [
    "new_feedback = \"teaching is excellent and the way of explanation is very good \""
   ]
  },
  {
   "cell_type": "code",
   "execution_count": 60,
   "id": "5957887d",
   "metadata": {},
   "outputs": [],
   "source": [
    "#new_feedback = \"teaching is not good the way of explanation is bad and ambiguious \""
   ]
  },
  {
   "cell_type": "code",
   "execution_count": 61,
   "id": "96db8fc4",
   "metadata": {},
   "outputs": [],
   "source": [
    "corpus = []"
   ]
  },
  {
   "cell_type": "code",
   "execution_count": 62,
   "id": "3f9f462a",
   "metadata": {},
   "outputs": [],
   "source": [
    "rp = re.sub(\"[^a-zA-Z]\",\" \",new_feedback)\n",
    "rp = rp.lower()\n",
    "rp = rp.split()\n",
    "rp = [ps.stem(word) for word in rp if not  word in set(stopwords.words('english'))]\n",
    "rp = \" \".join(rp)\n",
    "corpus.append(rp)"
   ]
  },
  {
   "cell_type": "code",
   "execution_count": 63,
   "id": "51034a35",
   "metadata": {},
   "outputs": [],
   "source": [
    "x_new = cv.transform(corpus).toarray()"
   ]
  },
  {
   "cell_type": "code",
   "execution_count": 64,
   "id": "2b05973d",
   "metadata": {},
   "outputs": [
    {
     "data": {
      "text/plain": [
       "array([[0, 0, 0, ..., 0, 0, 0]], dtype=int64)"
      ]
     },
     "execution_count": 64,
     "metadata": {},
     "output_type": "execute_result"
    }
   ],
   "source": [
    "x_new"
   ]
  },
  {
   "cell_type": "code",
   "execution_count": 65,
   "id": "463c81c3",
   "metadata": {},
   "outputs": [],
   "source": [
    "ans = model.predict(x_new)"
   ]
  },
  {
   "cell_type": "code",
   "execution_count": 66,
   "id": "b9e7cba0",
   "metadata": {},
   "outputs": [
    {
     "name": "stdout",
     "output_type": "stream",
     "text": [
      "Positive opinion\n"
     ]
    }
   ],
   "source": [
    "if(ans==1):\n",
    "    print(\"Positive opinion\")\n",
    "else:\n",
    "    print(\"Negative opinion\")"
   ]
  },
  {
   "cell_type": "code",
   "execution_count": 67,
   "id": "d0b1a4db",
   "metadata": {},
   "outputs": [],
   "source": [
    "#scr"
   ]
  },
  {
   "cell_type": "code",
   "execution_count": null,
   "id": "5abb540a",
   "metadata": {},
   "outputs": [],
   "source": []
  }
 ],
 "metadata": {
  "kernelspec": {
   "display_name": "Python 3 (ipykernel)",
   "language": "python",
   "name": "python3"
  },
  "language_info": {
   "codemirror_mode": {
    "name": "ipython",
    "version": 3
   },
   "file_extension": ".py",
   "mimetype": "text/x-python",
   "name": "python",
   "nbconvert_exporter": "python",
   "pygments_lexer": "ipython3",
   "version": "3.9.13"
  }
 },
 "nbformat": 4,
 "nbformat_minor": 5
}
